{
  "nbformat": 4,
  "nbformat_minor": 0,
  "metadata": {
    "colab": {
      "provenance": [],
      "authorship_tag": "ABX9TyO8JBxj8DoCFgqRyQtZMjHV",
      "include_colab_link": true
    },
    "kernelspec": {
      "name": "python3",
      "display_name": "Python 3"
    },
    "language_info": {
      "name": "python"
    }
  },
  "cells": [
    {
      "cell_type": "markdown",
      "metadata": {
        "id": "view-in-github",
        "colab_type": "text"
      },
      "source": [
        "<a href=\"https://colab.research.google.com/github/LivingstonTardzenyuy/Deep-Learning-with-TensorFlow/blob/main/Einsum_Operator.ipynb\" target=\"_parent\"><img src=\"https://colab.research.google.com/assets/colab-badge.svg\" alt=\"Open In Colab\"/></a>"
      ]
    },
    {
      "cell_type": "code",
      "execution_count": 9,
      "metadata": {
        "id": "uAlaqVjXouea"
      },
      "outputs": [],
      "source": [
        "import numpy as np\n",
        "import tensorflow as tf"
      ]
    },
    {
      "cell_type": "code",
      "source": [
        "A = np.array([\n",
        "    [2,6,5,2],\n",
        "    [2,-2,2,3],\n",
        "    [1,5,4,0]\n",
        "])\n",
        "\n",
        "B = np.array([\n",
        "    [2,9,0,3,0],\n",
        "    [3,6,8,2,2],\n",
        "    [1,3,5,0,1],\n",
        "    [3,0,2,0,5]\n",
        "])\n",
        "\n",
        "print(A.shape)\n",
        "print(B.shape)"
      ],
      "metadata": {
        "colab": {
          "base_uri": "https://localhost:8080/"
        },
        "id": "_FTGsuPJo-cH",
        "outputId": "c1996598-b902-45ea-bd4d-a98a979ebf23"
      },
      "execution_count": 3,
      "outputs": [
        {
          "output_type": "stream",
          "name": "stdout",
          "text": [
            "(3, 4)\n",
            "(4, 5)\n"
          ]
        }
      ]
    },
    {
      "cell_type": "code",
      "source": [
        "print(np.matmul(A,B))  # multiplying A and B"
      ],
      "metadata": {
        "colab": {
          "base_uri": "https://localhost:8080/"
        },
        "id": "mB3YgJpppmvi",
        "outputId": "bde74030-dde2-4c47-dcbb-063f789c905f"
      },
      "execution_count": 4,
      "outputs": [
        {
          "output_type": "stream",
          "name": "stdout",
          "text": [
            "[[33 69 77 18 27]\n",
            " [ 9 12  0  2 13]\n",
            " [21 51 60 13 14]]\n"
          ]
        }
      ]
    },
    {
      "cell_type": "code",
      "source": [
        "print(\"Einsum C=: \\n\")\n",
        "print(np.einsum(\"ij,jk -> ik\", A,B))"
      ],
      "metadata": {
        "colab": {
          "base_uri": "https://localhost:8080/"
        },
        "id": "xURUhvVypvsE",
        "outputId": "48347203-795e-45c0-9674-325bd8d5531e"
      },
      "execution_count": 5,
      "outputs": [
        {
          "output_type": "stream",
          "name": "stdout",
          "text": [
            "Einsum C=: \n",
            "\n",
            "[[33 69 77 18 27]\n",
            " [ 9 12  0  2 13]\n",
            " [21 51 60 13 14]]\n"
          ]
        }
      ]
    },
    {
      "cell_type": "code",
      "source": [
        "A = np.array([\n",
        "    [2,6,5,2],\n",
        "    [2,-2,2,3],\n",
        "    [1,5,4,0]\n",
        "])\n",
        "\n",
        "print(\"Einsum A=: \\n\")\n",
        "print(np.einsum('ij -> j', A))\n",
        "print(\"--------------------------\")\n"
      ],
      "metadata": {
        "colab": {
          "base_uri": "https://localhost:8080/"
        },
        "id": "rCxhhiBercEH",
        "outputId": "2d71df02-37a6-430c-a57b-eff547698d15"
      },
      "execution_count": 6,
      "outputs": [
        {
          "output_type": "stream",
          "name": "stdout",
          "text": [
            "Einsum A=: \n",
            "\n",
            "[ 5  9 11  5]\n",
            "--------------------------\n"
          ]
        }
      ]
    },
    {
      "cell_type": "code",
      "source": [
        "x = tf.constant([[[2,3,4,5]]])\n",
        "print(x.shape)\n",
        "x_expanded = tf.expand_dims(x, axis=0)\n",
        "print(x_expanded.shape)"
      ],
      "metadata": {
        "colab": {
          "base_uri": "https://localhost:8080/"
        },
        "id": "x_4hRUzslQav",
        "outputId": "c22207f0-872a-4db2-a6f0-1c254bc19012"
      },
      "execution_count": 10,
      "outputs": [
        {
          "output_type": "stream",
          "name": "stdout",
          "text": [
            "(1, 1, 4)\n",
            "(1, 1, 1, 4)\n"
          ]
        }
      ]
    },
    {
      "cell_type": "code",
      "source": [
        "t1 = [\n",
        "    [1,2,3],\n",
        "    [4,5,6]\n",
        "    ]\n",
        "\n",
        "t2 = [[7,8,9],\n",
        "      [10,11,12]\n",
        "      ]\n",
        "print(tf.constant(t1).shape)\n",
        "print(tf.constant(t2).shape)\n",
        "\n",
        "tf.concat([t1,t2],1)"
      ],
      "metadata": {
        "colab": {
          "base_uri": "https://localhost:8080/"
        },
        "id": "Cw69s_8-p1EN",
        "outputId": "ace2b512-6173-4881-c88c-f652ea2245d8"
      },
      "execution_count": 12,
      "outputs": [
        {
          "output_type": "stream",
          "name": "stdout",
          "text": [
            "(2, 3)\n",
            "(2, 3)\n"
          ]
        },
        {
          "output_type": "execute_result",
          "data": {
            "text/plain": [
              "<tf.Tensor: shape=(2, 6), dtype=int32, numpy=\n",
              "array([[ 1,  2,  3,  7,  8,  9],\n",
              "       [ 4,  5,  6, 10, 11, 12]], dtype=int32)>"
            ]
          },
          "metadata": {},
          "execution_count": 12
        }
      ]
    },
    {
      "cell_type": "code",
      "source": [],
      "metadata": {
        "id": "D5icZCZhrY5q"
      },
      "execution_count": null,
      "outputs": []
    }
  ]
}