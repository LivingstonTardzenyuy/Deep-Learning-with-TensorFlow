{
  "nbformat": 4,
  "nbformat_minor": 0,
  "metadata": {
    "colab": {
      "provenance": [],
      "authorship_tag": "ABX9TyPqRNagJCvr3MSVu/V0MPhR",
      "include_colab_link": true
    },
    "kernelspec": {
      "name": "python3",
      "display_name": "Python 3"
    },
    "language_info": {
      "name": "python"
    }
  },
  "cells": [
    {
      "cell_type": "markdown",
      "metadata": {
        "id": "view-in-github",
        "colab_type": "text"
      },
      "source": [
        "<a href=\"https://colab.research.google.com/github/LivingstonTardzenyuy/Deep-Learning-with-TensorFlow/blob/main/TensorFlow_Tensors.ipynb\" target=\"_parent\"><img src=\"https://colab.research.google.com/assets/colab-badge.svg\" alt=\"Open In Colab\"/></a>"
      ]
    },
    {
      "cell_type": "code",
      "execution_count": 1,
      "metadata": {
        "id": "GmrykzzKUpfw"
      },
      "outputs": [],
      "source": [
        "import tensorflow as tf"
      ]
    },
    {
      "cell_type": "code",
      "source": [
        "tensor_zero_d = tf.constant(4)\n",
        "print(tensor_zero_d)"
      ],
      "metadata": {
        "colab": {
          "base_uri": "https://localhost:8080/"
        },
        "id": "GglEPB96UwWb",
        "outputId": "12029bf0-8eb1-4e56-83d4-e5fa7d6b067c"
      },
      "execution_count": 2,
      "outputs": [
        {
          "output_type": "stream",
          "name": "stdout",
          "text": [
            "tf.Tensor(4, shape=(), dtype=int32)\n"
          ]
        }
      ]
    },
    {
      "cell_type": "code",
      "source": [
        "tensor_one_d = tf.constant([2, 0, -3, 8, 90])\n",
        "print(tensor_one_d)"
      ],
      "metadata": {
        "colab": {
          "base_uri": "https://localhost:8080/"
        },
        "id": "fXXd22elU3V8",
        "outputId": "846447ba-813d-4719-e9b6-5ff80dfb698f"
      },
      "execution_count": 4,
      "outputs": [
        {
          "output_type": "stream",
          "name": "stdout",
          "text": [
            "tf.Tensor([ 2  0 -3  8 90], shape=(5,), dtype=int32)\n"
          ]
        }
      ]
    },
    {
      "cell_type": "code",
      "source": [
        "tensor_two_d = tf.constant([\n",
        "    [1, 2],\n",
        "    [3,4],\n",
        "    [4, 5],\n",
        "    [6,7],\n",
        "    ])\n",
        "print(tensor_two_d)"
      ],
      "metadata": {
        "colab": {
          "base_uri": "https://localhost:8080/"
        },
        "id": "S4Qw1X2ZU_I0",
        "outputId": "8ab95975-c541-4950-c96e-67d55861974b"
      },
      "execution_count": 5,
      "outputs": [
        {
          "output_type": "stream",
          "name": "stdout",
          "text": [
            "tf.Tensor(\n",
            "[[1 2]\n",
            " [3 4]\n",
            " [4 5]\n",
            " [6 7]], shape=(4, 2), dtype=int32)\n"
          ]
        }
      ]
    },
    {
      "cell_type": "code",
      "source": [
        "tensor_three_d = tf.constant([\n",
        "    [[1, 2, 0], [3,4, 0]],\n",
        "    [[4, 5, 0], [6,7, 0]],\n",
        "    [[7, 8, 0], [9,10, 0]],\n",
        "    [[11, 12, 0], [13,14, 0]]\n",
        "])\n",
        "print(tensor_three_d)"
      ],
      "metadata": {
        "colab": {
          "base_uri": "https://localhost:8080/"
        },
        "id": "1Ir6lC4PVePf",
        "outputId": "a05b3d36-9e04-4857-f88c-30c695bbf4ea"
      },
      "execution_count": 7,
      "outputs": [
        {
          "output_type": "stream",
          "name": "stdout",
          "text": [
            "tf.Tensor(\n",
            "[[[ 1  2  0]\n",
            "  [ 3  4  0]]\n",
            "\n",
            " [[ 4  5  0]\n",
            "  [ 6  7  0]]\n",
            "\n",
            " [[ 7  8  0]\n",
            "  [ 9 10  0]]\n",
            "\n",
            " [[11 12  0]\n",
            "  [13 14  0]]], shape=(4, 2, 3), dtype=int32)\n"
          ]
        }
      ]
    },
    {
      "cell_type": "code",
      "source": [
        "print(tensor_three_d.shape)"
      ],
      "metadata": {
        "colab": {
          "base_uri": "https://localhost:8080/"
        },
        "id": "z88x87xNWFsQ",
        "outputId": "3c303936-6091-4a54-d7ee-463361a36700"
      },
      "execution_count": 8,
      "outputs": [
        {
          "output_type": "stream",
          "name": "stdout",
          "text": [
            "(4, 2, 3)\n"
          ]
        }
      ]
    },
    {
      "cell_type": "code",
      "source": [
        "tensor_four_d = tf.constant([\n",
        "    [[[1,2,3]], [[4,5,6]]],\n",
        "    [[[7,8,9]], [[10,11,12]]],\n",
        "    [[[13,14,15]], [[16,17,18]]\n",
        "]], dtype=tf.float32)\n",
        "print(tensor_four_d)"
      ],
      "metadata": {
        "colab": {
          "base_uri": "https://localhost:8080/"
        },
        "id": "epzyJhJAWgaX",
        "outputId": "9e1523df-9a03-4800-a359-3a5b44983d7d"
      },
      "execution_count": 12,
      "outputs": [
        {
          "output_type": "stream",
          "name": "stdout",
          "text": [
            "tf.Tensor(\n",
            "[[[[ 1.  2.  3.]]\n",
            "\n",
            "  [[ 4.  5.  6.]]]\n",
            "\n",
            "\n",
            " [[[ 7.  8.  9.]]\n",
            "\n",
            "  [[10. 11. 12.]]]\n",
            "\n",
            "\n",
            " [[[13. 14. 15.]]\n",
            "\n",
            "  [[16. 17. 18.]]]], shape=(3, 2, 1, 3), dtype=float32)\n"
          ]
        }
      ]
    },
    {
      "cell_type": "code",
      "source": [],
      "metadata": {
        "id": "AVL0PSb9WxaG"
      },
      "execution_count": null,
      "outputs": []
    }
  ]
}